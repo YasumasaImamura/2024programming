{
  "nbformat": 4,
  "nbformat_minor": 0,
  "metadata": {
    "colab": {
      "provenance": [],
      "authorship_tag": "ABX9TyNYYyupdKtW3qNv/5ZPEkmL",
      "include_colab_link": true
    },
    "kernelspec": {
      "name": "python3",
      "display_name": "Python 3"
    },
    "language_info": {
      "name": "python"
    }
  },
  "cells": [
    {
      "cell_type": "markdown",
      "metadata": {
        "id": "view-in-github",
        "colab_type": "text"
      },
      "source": [
        "<a href=\"https://colab.research.google.com/github/YasumasaImamura/2024programming/blob/main/%E7%AC%AC8%E5%9B%9E%E5%AE%BF%E9%A1%8C.ipynb\" target=\"_parent\"><img src=\"https://colab.research.google.com/assets/colab-badge.svg\" alt=\"Open In Colab\"/></a>"
      ]
    },
    {
      "cell_type": "markdown",
      "source": [
        "# 2024プログラミング\n",
        "\n",
        "## 7.ユーザ定義関数を作成する\n",
        "Pythonはすべての値がオブジェクト，そしてそれらはクラス（設計図）から作られています．ここではオリジナルのクラスを作成して利用してみましょう．   "
      ],
      "metadata": {
        "id": "8SN03ed_0Cr1"
      }
    },
    {
      "cell_type": "markdown",
      "source": [
        "### クラスを定義する\n",
        "\n",
        "次の各問いに答えなさい．"
      ],
      "metadata": {
        "id": "rQKTTaU80MXT"
      }
    },
    {
      "cell_type": "markdown",
      "source": [
        "問題7.1：プロパティとしてnameとhpを持つHeroクラスを定義し,「僕の名前はXXだよ．現在のHPはYY．」（XX，YYはインスタンスのnameとhp）と自己紹介するメソッドintroを定義しなさい．そのうえで，nameはTaro，hpは100でインスタンスを生成して「僕の名前はTaroだよ．現在のHPは100．」，と自己紹介させなさい．  "
      ],
      "metadata": {
        "id": "gguVTuHD0OWJ"
      }
    },
    {
      "cell_type": "code",
      "source": [],
      "metadata": {
        "id": "4C2l1gW_e8MK"
      },
      "execution_count": null,
      "outputs": []
    },
    {
      "cell_type": "markdown",
      "source": [
        "問題7.2：問題7.1のHeroクラスに「XXは敵を攻撃した．HPを20削った．」（XXはインスタンスの名前）と表示するattackメソッドを定義したうえで，nameはTaro，hpは100のインスタンスTaroを生成し，attackメソッドを実行させると\n",
        "\n",
        "僕の名前はTaroだよ．  \n",
        "Taroは敵を攻撃した．HPを20削った．   \n",
        "\n",
        "と表示するようにしなさい．  "
      ],
      "metadata": {
        "id": "FpW2UPlL3pbC"
      }
    },
    {
      "cell_type": "code",
      "source": [],
      "metadata": {
        "id": "8UHjALYGe9lY"
      },
      "execution_count": null,
      "outputs": []
    },
    {
      "cell_type": "markdown",
      "source": [
        "問題7.3：問題7.2のHeroクラスに，HPを20減らした上で「XXはダメージを受けた．現在のHPはYY.」（XX，YYはその時点のnameとhpの値）と表示させるdamageメソッドを定義したうえで，nameはTaro，hpは100のインスタンスTaroを生成し，damageメソッドを実行させると  \n",
        "\n",
        "僕の名前はTaroだよ．  \n",
        "Taroは敵を攻撃した．HPを20削った．  \n",
        "Taroはダメージを受けた．現在のHPは80．  \n",
        "\n",
        "と表示するようにしなさい．  "
      ],
      "metadata": {
        "id": "btBfgopsYJwf"
      }
    },
    {
      "cell_type": "code",
      "source": [],
      "metadata": {
        "id": "47YoD9AAe_Hq"
      },
      "execution_count": null,
      "outputs": []
    },
    {
      "cell_type": "markdown",
      "source": [
        "問題7.4：Heroクラス継承したEnemyクラスを定義し,nameはRex，hpは80でインスタンスを生成して「僕の名前はRexだよ．現在のHPは80．ガオー！」と自己紹介させなさい．  \n"
      ],
      "metadata": {
        "id": "3aKF4IlV0zig"
      }
    },
    {
      "cell_type": "code",
      "source": [],
      "metadata": {
        "id": "mNHStT4ufEkC"
      },
      "execution_count": null,
      "outputs": []
    },
    {
      "cell_type": "markdown",
      "source": [
        "問題7.5：問題7.3のTaroに問題7.4のRexを攻撃（attack）してRexにダメージを与える（damage）ように修正しなさい．そのためにattackメソッドに攻撃相手のインスタンス名を入れるための引数を追加し(attack(self,enemy))，attackメソッド中で相手のインスタンスのdamegeメソッドを呼び出します．  \n",
        "（出力）  \n",
        "僕の名前はTaroだよ．  \n",
        "僕の名前はRexだよ．現在のHPは80．ガオー！  \n",
        "Taroは敵を攻撃した．HPを20削った．  \n",
        "Rexはダメージを受けた．現在のHPは60．  "
      ],
      "metadata": {
        "id": "FXW5gFvS2SV2"
      }
    },
    {
      "cell_type": "code",
      "source": [],
      "metadata": {
        "id": "2dScUVx1fCLk"
      },
      "execution_count": null,
      "outputs": []
    }
  ]
}