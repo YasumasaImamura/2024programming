{
  "nbformat": 4,
  "nbformat_minor": 0,
  "metadata": {
    "colab": {
      "provenance": [],
      "authorship_tag": "ABX9TyNDCVPyn4/vkUAEhULozVXy",
      "include_colab_link": true
    },
    "kernelspec": {
      "name": "python3",
      "display_name": "Python 3"
    },
    "language_info": {
      "name": "python"
    }
  },
  "cells": [
    {
      "cell_type": "markdown",
      "metadata": {
        "id": "view-in-github",
        "colab_type": "text"
      },
      "source": [
        "<a href=\"https://colab.research.google.com/github/YasumasaImamura/2024programming/blob/main/%E7%AC%AC5%E5%9B%9E%E5%AE%BF%E9%A1%8C.ipynb\" target=\"_parent\"><img src=\"https://colab.research.google.com/assets/colab-badge.svg\" alt=\"Open In Colab\"/></a>"
      ]
    },
    {
      "cell_type": "markdown",
      "source": [
        "# 2024プログラミング\n",
        "\n",
        "## 4.処理を繰り返す\n",
        "\n"
      ],
      "metadata": {
        "id": "dUWhlp1OOLVr"
      }
    },
    {
      "cell_type": "markdown",
      "source": [
        "### for文で処理を指定した回数だけ繰り返す\n",
        "for文を用いて，次の処理を行うプログラムを作りなさい．"
      ],
      "metadata": {
        "id": "Q9N2MP8AkC1j"
      }
    },
    {
      "cell_type": "markdown",
      "source": [
        "問題4.1：for文を用いて，1から10まで足しあわせた結果を表示するプログラムを作りなさい．（ヒント：合計を入れておく変数をsとし，0で初期化しておくこと(s = 0))"
      ],
      "metadata": {
        "id": "EMH2wWToPVtR"
      }
    },
    {
      "cell_type": "code",
      "source": [],
      "metadata": {
        "id": "a17JCVupjQUO"
      },
      "execution_count": null,
      "outputs": []
    },
    {
      "cell_type": "markdown",
      "source": [
        "問題4.2：for文を用いて，1から100までの整数で8の倍数を表示させるプログラムを作りなさい．（ヒント：余りを求める演算子「%」を使おう．）"
      ],
      "metadata": {
        "id": "qGz2lntYMRO7"
      }
    },
    {
      "cell_type": "code",
      "source": [],
      "metadata": {
        "id": "G-8DGKy8jOv4"
      },
      "execution_count": null,
      "outputs": []
    },
    {
      "cell_type": "markdown",
      "source": [
        "問題4.3：for文の二重ループを用いて，下の（出力結果）のような九九の表を作るプログラムを作りなさい．（ヒント：print関数を改行しないようにするには，print(XXX, end=\" \")，改行のみのときはprint()）とします．）  \n",
        "（出力結果）  \n",
        "1 2 3 4 5 6 7 8 9  \n",
        "2 4 6 8 10 12 14 16 18  \n",
        "・・・  \n",
        "9 18 27 36 45 54 63 72 81  "
      ],
      "metadata": {
        "id": "lKBAJTPVab9t"
      }
    },
    {
      "cell_type": "code",
      "source": [],
      "metadata": {
        "id": "zCHDMuntjNJO"
      },
      "execution_count": null,
      "outputs": []
    },
    {
      "cell_type": "markdown",
      "source": [
        "### while文による繰り返し\n",
        "while文を用いて，次の処理を行うプログラムを作りなさい．"
      ],
      "metadata": {
        "id": "soXHnFsEHSK7"
      }
    },
    {
      "cell_type": "markdown",
      "source": [
        "問題4.4：while文とinput関数を使って5人分の得点を入力し，5人の合計点と平均点を表示させるプログラムを作りなさい．（ヒント：合計点を入れる変数をtotalとし，0で初期化しておく．リストを使っても使わなくても良い．結果を文字列を結合するには，str関数と+演算子を用いるか，「フォーマット文字列」を使用します．）"
      ],
      "metadata": {
        "id": "c9mU4P-KV93e"
      }
    },
    {
      "cell_type": "code",
      "source": [],
      "metadata": {
        "id": "mj5JWc1xjI8f"
      },
      "execution_count": null,
      "outputs": []
    },
    {
      "cell_type": "markdown",
      "source": [
        "問題4.5：while文の無限ループで，坪数を入れると平方メートル単位で表示するプログラムを作りなさい．ただし，1坪は3.31平方メートルとし，「q」キーを押すと「終了」と表示してプログラムを終了するようにしなさい．"
      ],
      "metadata": {
        "id": "XiHRoGMUWeNq"
      }
    },
    {
      "cell_type": "code",
      "source": [],
      "metadata": {
        "id": "V8ZUPunejHA4"
      },
      "execution_count": null,
      "outputs": []
    },
    {
      "cell_type": "markdown",
      "source": [
        "## 5.データをまとめて管理するリスト，タプル，辞書(1)"
      ],
      "metadata": {
        "id": "ne_ResloI-h2"
      }
    },
    {
      "cell_type": "markdown",
      "source": [
        "### インデックスで一連のデータを管理するリスト\n",
        "リストを用いて，次の処理を行うプログラムを作りなさい．"
      ],
      "metadata": {
        "id": "6_ggMAbTiNHo"
      }
    },
    {
      "cell_type": "markdown",
      "source": [
        "問題5.1：5人のテストの得点が，リストtokuten = [78,87,92,64,70]に入っているとき，for文を用いてリストの中身を取り出して，合計点と平均点を求めて表示するプログラムを作りなさい．ただし，人数はlen関数を用いて数えること．"
      ],
      "metadata": {
        "id": "YN1MpdI8XP2H"
      }
    },
    {
      "cell_type": "code",
      "source": [],
      "metadata": {
        "id": "DCVGAhnljD82"
      },
      "execution_count": null,
      "outputs": []
    },
    {
      "cell_type": "markdown",
      "source": [
        "問題5.2：5人のテストの得点が，リストtokuten = [78,87,92,64,70]に入っている．2人目の得点が間違っていることが分かったので，del文で削除したうえで改めて全員の合計点と平均点を表示するプログラムを作りなさい．\n"
      ],
      "metadata": {
        "id": "zAYHCI4Lc_st"
      }
    },
    {
      "cell_type": "code",
      "source": [],
      "metadata": {
        "id": "PPhGL-eVh0eB"
      },
      "execution_count": null,
      "outputs": []
    },
    {
      "cell_type": "markdown",
      "source": [
        "問題5.3：あるクラスの得点をwhile文を使って無限ループで入力し，それらをリストtokutenにappendメソッドで追加入力し，「q」キーを押すと終了して合計点と平均点を表示するプログラムを作りなさい．（空のリストを生成するにはリスト名 = [ ]とします．）"
      ],
      "metadata": {
        "id": "YW5bkeUtaBmD"
      }
    },
    {
      "cell_type": "code",
      "source": [],
      "metadata": {
        "id": "b1ZKPFg4i93A"
      },
      "execution_count": null,
      "outputs": []
    },
    {
      "cell_type": "markdown",
      "source": [
        "### リストの内包表記\n"
      ],
      "metadata": {
        "id": "6F7wesORVaD4"
      }
    },
    {
      "cell_type": "markdown",
      "source": [
        "問題5.4：0から10までの整数のうち2の倍数だけからなるリストeven_listを，内包表記で作って表示させるプログラムを作りなさい．"
      ],
      "metadata": {
        "id": "bQC5zWaGe6WL"
      }
    },
    {
      "cell_type": "code",
      "source": [],
      "metadata": {
        "id": "BNLsp3GYi7KS"
      },
      "execution_count": null,
      "outputs": []
    },
    {
      "cell_type": "markdown",
      "source": [
        "問題5.5：5人のテストの得点が，リストtokuten = [78,87,92,64,70]に入っている．75点以上の得点だけからなるリストgoukakuを，内包表記で作って表示させるプログラムを作りなさい．"
      ],
      "metadata": {
        "id": "uxzSj21WeCQ4"
      }
    },
    {
      "cell_type": "code",
      "source": [],
      "metadata": {
        "id": "V0srS4_li5d_"
      },
      "execution_count": null,
      "outputs": []
    }
  ]
}