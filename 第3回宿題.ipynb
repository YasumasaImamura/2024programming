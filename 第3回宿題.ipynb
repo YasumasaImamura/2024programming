{
  "nbformat": 4,
  "nbformat_minor": 0,
  "metadata": {
    "colab": {
      "provenance": [],
      "authorship_tag": "ABX9TyPAKvu9x4WLrkfRgaR+8zn7",
      "include_colab_link": true
    },
    "kernelspec": {
      "name": "python3",
      "display_name": "Python 3"
    },
    "language_info": {
      "name": "python"
    }
  },
  "cells": [
    {
      "cell_type": "markdown",
      "metadata": {
        "id": "view-in-github",
        "colab_type": "text"
      },
      "source": [
        "<a href=\"https://colab.research.google.com/github/YasumasaImamura/2024programming/blob/main/%E7%AC%AC3%E5%9B%9E%E5%AE%BF%E9%A1%8C.ipynb\" target=\"_parent\"><img src=\"https://colab.research.google.com/assets/colab-badge.svg\" alt=\"Open In Colab\"/></a>"
      ]
    },
    {
      "cell_type": "markdown",
      "source": [
        "# 2024プログラミング\n",
        "\n",
        "\n",
        "## 2.モジュールとクラスを活用する\n",
        "### モジュールを活用するとより便利に\n",
        "mathモジュールをインポートして次の計算をしてみよう．   \n",
        "結果はprint関数を用いて表示させること．\n",
        "\n",
        "\n"
      ],
      "metadata": {
        "id": "YW5PIH9shTrz"
      }
    },
    {
      "cell_type": "markdown",
      "source": [
        "問題2.1: floor(-2.4)"
      ],
      "metadata": {
        "id": "UDjUCSxsiW7t"
      }
    },
    {
      "cell_type": "code",
      "source": [],
      "metadata": {
        "id": "ncZjs2Ovi6Gx"
      },
      "execution_count": null,
      "outputs": []
    },
    {
      "cell_type": "markdown",
      "source": [
        "問題2.2: ceil(-3.5)"
      ],
      "metadata": {
        "id": "TLwQejDmi8k7"
      }
    },
    {
      "cell_type": "code",
      "source": [],
      "metadata": {
        "id": "EJ8u-36vjZ2k"
      },
      "execution_count": null,
      "outputs": []
    },
    {
      "cell_type": "markdown",
      "source": [
        "問題2.3: log(1000)"
      ],
      "metadata": {
        "id": "ysgQR_rfjaL9"
      }
    },
    {
      "cell_type": "code",
      "source": [],
      "metadata": {
        "id": "XLosjHjQjw_D"
      },
      "execution_count": null,
      "outputs": []
    },
    {
      "cell_type": "markdown",
      "source": [
        "問題2.4: 2の64乗"
      ],
      "metadata": {
        "id": "OrzHbduOjxIV"
      }
    },
    {
      "cell_type": "code",
      "source": [],
      "metadata": {
        "id": "KWfx_r4Yj9ZL"
      },
      "execution_count": null,
      "outputs": []
    },
    {
      "cell_type": "markdown",
      "source": [
        "問題2.5: 4096の平方根"
      ],
      "metadata": {
        "id": "K-hskGPKj_hJ"
      }
    },
    {
      "cell_type": "code",
      "source": [],
      "metadata": {
        "id": "4NlFhEV1kZIA"
      },
      "execution_count": null,
      "outputs": []
    },
    {
      "cell_type": "markdown",
      "source": [
        "問題2.6: sin(π/4)の2乗とcos(π/4)の2乗の和"
      ],
      "metadata": {
        "id": "UI0eOlVHkcZO"
      }
    },
    {
      "cell_type": "code",
      "source": [],
      "metadata": {
        "id": "PhlhcAuSkshh"
      },
      "execution_count": null,
      "outputs": []
    },
    {
      "cell_type": "markdown",
      "source": [
        "問題2.7: 180度をラジアンに変換"
      ],
      "metadata": {
        "id": "NsUodqlbksu9"
      }
    },
    {
      "cell_type": "code",
      "source": [],
      "metadata": {
        "id": "MlSfRZ8znLeu"
      },
      "execution_count": null,
      "outputs": []
    },
    {
      "cell_type": "markdown",
      "source": [
        "###モジュールのクラスをインポートする&コンストラクタでインスタンスを生成する"
      ],
      "metadata": {
        "id": "M1myHab_n8-5"
      }
    },
    {
      "cell_type": "markdown",
      "source": [
        "問題2.8: calendarモジュールをインポートしたうえで，TextCalendarクラスのコンストラクタを呼び出してインスタンスを生成し，prmonthメソッドで2024年5月のカレンダーを出力しよう．"
      ],
      "metadata": {
        "id": "oAs7dck8n0vF"
      }
    },
    {
      "cell_type": "code",
      "source": [],
      "metadata": {
        "id": "zkbFcrJKqaCv"
      },
      "execution_count": null,
      "outputs": []
    },
    {
      "cell_type": "markdown",
      "source": [
        "問題2.9: calendarモジュールをインポートしたうえで，TextCalendarクラスのコンストラクタを呼び出してインスタンスを生成し，pryearメソッドで2024年の年間カレンダーを出力しよう．（ヒント：pryear(2024, w=2, l=1, c=6, m=3)）"
      ],
      "metadata": {
        "id": "7bcBoYy9qaZ7"
      }
    },
    {
      "cell_type": "code",
      "source": [],
      "metadata": {
        "id": "_ouWmd02tTo_"
      },
      "execution_count": null,
      "outputs": []
    },
    {
      "cell_type": "markdown",
      "source": [
        "###文字列の取り扱い"
      ],
      "metadata": {
        "id": "a8uCahbPv_T6"
      }
    },
    {
      "cell_type": "markdown",
      "source": [
        "問題2.10: \"My name is Ken. Hi Ken\" が\"My\"で始まっていることを，startswithメソッドで確認しよう．あれば\"True\"を戻す．"
      ],
      "metadata": {
        "id": "qQ7I7PB-tULx"
      }
    },
    {
      "cell_type": "code",
      "source": [],
      "metadata": {
        "id": "3YN-g23gt5Lp"
      },
      "execution_count": null,
      "outputs": []
    },
    {
      "cell_type": "markdown",
      "source": [
        "問題2.11: \"My name is Ken. Hi Ken\" の中に，文字列\"Ken\"があるか，findメソッドで確認しよう．あれば\"True\"を戻す．"
      ],
      "metadata": {
        "id": "HwJgPr6st5il"
      }
    },
    {
      "cell_type": "code",
      "source": [],
      "metadata": {
        "id": "7y1nzDyeuitz"
      },
      "execution_count": null,
      "outputs": []
    },
    {
      "cell_type": "markdown",
      "source": [
        "問題2.12: \"My name is Ken. Hi Ken\" が\"Ken\"で終わっているか，endswithメソッドで確認しよう．あれば文字の位置のインデックス番号（0で始まる）を戻す。"
      ],
      "metadata": {
        "id": "uQROzH9Zuzp1"
      }
    },
    {
      "cell_type": "code",
      "source": [],
      "metadata": {
        "id": "54t9Lx6rvL69"
      },
      "execution_count": null,
      "outputs": []
    },
    {
      "cell_type": "markdown",
      "source": [
        "問題2.13: \"My name is Ken. Hi Ken\" の中の文字列\"Ken\"を，replaceメソッドを用いて\"Bill\"に置換しよう．"
      ],
      "metadata": {
        "id": "zjg8U5oDuezl"
      }
    },
    {
      "cell_type": "code",
      "source": [],
      "metadata": {
        "id": "XYkGK8_huPfq"
      },
      "execution_count": null,
      "outputs": []
    },
    {
      "cell_type": "markdown",
      "source": [
        "問題2.14: \"My name is Ken. Hi Ken\" を，upperメソッドを用いてすべて大文字にしよう．"
      ],
      "metadata": {
        "id": "JczP8tUDvRoz"
      }
    },
    {
      "cell_type": "code",
      "source": [],
      "metadata": {
        "id": "PZmj-ohcvefb"
      },
      "execution_count": null,
      "outputs": []
    },
    {
      "cell_type": "markdown",
      "source": [
        "問題2.15: \"My name is Ken. Hi Ken\" を，lowerメソッドを用いてすべて小文字にしよう．"
      ],
      "metadata": {
        "id": "7rRxGc-wvhfq"
      }
    },
    {
      "cell_type": "code",
      "source": [],
      "metadata": {
        "id": "EVfg2qNyvpE-"
      },
      "execution_count": null,
      "outputs": []
    }
  ]
}