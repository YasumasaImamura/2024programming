{
  "nbformat": 4,
  "nbformat_minor": 0,
  "metadata": {
    "colab": {
      "provenance": [],
      "authorship_tag": "ABX9TyNCRZukDVae6C8NOxeeDXe7",
      "include_colab_link": true
    },
    "kernelspec": {
      "name": "python3",
      "display_name": "Python 3"
    },
    "language_info": {
      "name": "python"
    }
  },
  "cells": [
    {
      "cell_type": "markdown",
      "metadata": {
        "id": "view-in-github",
        "colab_type": "text"
      },
      "source": [
        "<a href=\"https://colab.research.google.com/github/YasumasaImamura/2024programming/blob/main/%E7%AC%AC2%E5%9B%9E%E5%AE%BF%E9%A1%8C.ipynb\" target=\"_parent\"><img src=\"https://colab.research.google.com/assets/colab-badge.svg\" alt=\"Open In Colab\"/></a>"
      ]
    },
    {
      "cell_type": "markdown",
      "source": [],
      "metadata": {
        "id": "NMPQwLpufGhz"
      }
    },
    {
      "cell_type": "markdown",
      "source": [
        "# 2024プログラミング\n",
        "\n",
        "\n",
        "## 1.変数と計算\n",
        "### 簡単な計算をしてみよう\n",
        "ptint関数を利用して次の計算結果を表示してみよう．  \n",
        "\n"
      ],
      "metadata": {
        "id": "1Ox9zL_ZbUS6"
      }
    },
    {
      "cell_type": "markdown",
      "source": [
        "問題1.1: 128 + 512  "
      ],
      "metadata": {
        "id": "9DKa9qrpfMhs"
      }
    },
    {
      "cell_type": "code",
      "source": [],
      "metadata": {
        "id": "OtQx9B96eVQs"
      },
      "execution_count": null,
      "outputs": []
    },
    {
      "cell_type": "markdown",
      "source": [
        "問題1.2: 1024- 256  "
      ],
      "metadata": {
        "id": "mYnN31USebrb"
      }
    },
    {
      "cell_type": "code",
      "source": [],
      "metadata": {
        "id": "0qXhbvXFegLR"
      },
      "execution_count": null,
      "outputs": []
    },
    {
      "cell_type": "markdown",
      "source": [
        "問題1.3: 3.14 - 2.236  "
      ],
      "metadata": {
        "id": "p7XSJ2KweknM"
      }
    },
    {
      "cell_type": "code",
      "source": [],
      "metadata": {
        "id": "loRmJiGxeyVW"
      },
      "execution_count": null,
      "outputs": []
    },
    {
      "cell_type": "markdown",
      "source": [
        "問題1.4: 5×3"
      ],
      "metadata": {
        "id": "3BuVIBzofJlO"
      }
    },
    {
      "cell_type": "code",
      "source": [],
      "metadata": {
        "id": "eSht641cfb_C"
      },
      "execution_count": null,
      "outputs": []
    },
    {
      "cell_type": "markdown",
      "source": [
        "問題1.5: 6÷2  "
      ],
      "metadata": {
        "id": "UcG1K5tCfeM3"
      }
    },
    {
      "cell_type": "code",
      "source": [],
      "metadata": {
        "id": "hdf0hvFIfiW_"
      },
      "execution_count": null,
      "outputs": []
    },
    {
      "cell_type": "markdown",
      "source": [
        "問題1.6: 5÷3  "
      ],
      "metadata": {
        "id": "mHSLG_lzfkJH"
      }
    },
    {
      "cell_type": "code",
      "source": [],
      "metadata": {
        "id": "KPew8J8QfoAa"
      },
      "execution_count": null,
      "outputs": []
    },
    {
      "cell_type": "markdown",
      "source": [
        "問題1.7: 8÷3の商  "
      ],
      "metadata": {
        "id": "fMQvFTlXfm--"
      }
    },
    {
      "cell_type": "code",
      "source": [],
      "metadata": {
        "id": "P6Lc-1qdfrlS"
      },
      "execution_count": null,
      "outputs": []
    },
    {
      "cell_type": "markdown",
      "source": [
        "問題1.8: 8÷3の余り  "
      ],
      "metadata": {
        "id": "tkASs-Affr39"
      }
    },
    {
      "cell_type": "code",
      "source": [],
      "metadata": {
        "id": "cK3Q_qFYf_Z8"
      },
      "execution_count": null,
      "outputs": []
    },
    {
      "cell_type": "markdown",
      "source": [
        "問題1.9: $8^{3}$"
      ],
      "metadata": {
        "id": "ErH9wE0Ef_4T"
      }
    },
    {
      "cell_type": "code",
      "source": [],
      "metadata": {
        "id": "gcmGLw82hUA8"
      },
      "execution_count": null,
      "outputs": []
    },
    {
      "cell_type": "markdown",
      "source": [
        "問題1.10: 12-2*3  "
      ],
      "metadata": {
        "id": "DVyaqaWdiGfo"
      }
    },
    {
      "cell_type": "code",
      "source": [],
      "metadata": {
        "id": "2VN_-2aSiGFC"
      },
      "execution_count": null,
      "outputs": []
    },
    {
      "cell_type": "markdown",
      "source": [
        "問題1.11: (12-2)*3"
      ],
      "metadata": {
        "id": "2LrLU8G1iMbo"
      }
    },
    {
      "cell_type": "code",
      "source": [],
      "metadata": {
        "id": "QriKoKEhioSz"
      },
      "execution_count": null,
      "outputs": []
    },
    {
      "cell_type": "markdown",
      "source": [
        "### 文字列の演算・変換"
      ],
      "metadata": {
        "id": "lxX3rLUmitZ-"
      }
    },
    {
      "cell_type": "markdown",
      "source": [
        "値には「型」（Type）があります．"
      ],
      "metadata": {
        "id": "0AjstjdVjAMn"
      }
    },
    {
      "cell_type": "markdown",
      "source": [
        "問題1.12: type関数を用いて，314の型を調べなさい．"
      ],
      "metadata": {
        "id": "P8lDKuLfToan"
      }
    },
    {
      "cell_type": "code",
      "source": [],
      "metadata": {
        "id": "ayhSsAQnT01x"
      },
      "execution_count": null,
      "outputs": []
    },
    {
      "cell_type": "markdown",
      "source": [
        "問題1.13: type関数を用いて，3.14の型を調べなさい．\n"
      ],
      "metadata": {
        "id": "jSG3KaR6Tdq-"
      }
    },
    {
      "cell_type": "code",
      "source": [],
      "metadata": {
        "id": "SuoI2904iq-z"
      },
      "execution_count": null,
      "outputs": []
    },
    {
      "cell_type": "markdown",
      "source": [
        "問題1.14: 3 + 3.14の計算を行うと出力結果の値の型はどうなるか．"
      ],
      "metadata": {
        "id": "sNVLZToVTkYG"
      }
    },
    {
      "cell_type": "code",
      "source": [],
      "metadata": {
        "id": "Mhn4W83piM3m"
      },
      "execution_count": null,
      "outputs": []
    },
    {
      "cell_type": "markdown",
      "source": [
        "問題1.15: 100 ÷ 20の計算を行うと出力結果の値の型はどうなるか．"
      ],
      "metadata": {
        "id": "FNZOSyYiUVI1"
      }
    },
    {
      "cell_type": "code",
      "source": [],
      "metadata": {
        "id": "d2HyjMNqUl_6"
      },
      "execution_count": null,
      "outputs": []
    },
    {
      "cell_type": "markdown",
      "source": [
        "## 変数を使う"
      ],
      "metadata": {
        "id": "bFNPNWWCaSSH"
      }
    },
    {
      "cell_type": "markdown",
      "source": [
        "問題1.16: 次のコードを実行しましょう．  \n",
        "name = \"梅花 香\"  \n",
        "age = 18  \n",
        "msg = f\"{name}の年齢は{age}歳です\"  \n",
        "print(msg)  "
      ],
      "metadata": {
        "id": "trDtqXkMV4as"
      }
    },
    {
      "cell_type": "code",
      "source": [],
      "metadata": {
        "id": "rlneGq9kZ_lL"
      },
      "execution_count": null,
      "outputs": []
    },
    {
      "cell_type": "markdown",
      "source": [
        "問題1.17: 次のコードを実行しましょう．  \n",
        "age = 18  \n",
        "print(age * 3)  "
      ],
      "metadata": {
        "id": "u5iZPf7uW6Xm"
      }
    },
    {
      "cell_type": "code",
      "source": [],
      "metadata": {
        "id": "PLQihh6iXTte"
      },
      "execution_count": null,
      "outputs": []
    },
    {
      "cell_type": "markdown",
      "source": [
        "問題1.18: 次のコードを実行しましょう．  \n",
        "fname = \"梅花\"  \n",
        "lname = \"香\"  \n",
        "full_name = fname + lname  \n",
        "print(full_name)  "
      ],
      "metadata": {
        "id": "r0LtO45iXT4z"
      }
    },
    {
      "cell_type": "code",
      "source": [],
      "metadata": {
        "id": "YhEHUDTZX7mg"
      },
      "execution_count": null,
      "outputs": []
    },
    {
      "cell_type": "markdown",
      "source": [
        "## キーボードからの入力"
      ],
      "metadata": {
        "id": "YqticEmdapJs"
      }
    },
    {
      "cell_type": "markdown",
      "source": [
        "問題1.19: 次のコードを実行しましょう．  \n",
        "name = input(\"名前を入力してください\")  #自分の名前を入力させます  \n",
        "age = input(\"年齢を入力してください\")  #自分の名前を入力させます  \n",
        "msg = f\"{name}の年齢は{age}歳です\"  \n",
        "print(msg)"
      ],
      "metadata": {
        "id": "PadlEP7pX8vW"
      }
    },
    {
      "cell_type": "code",
      "source": [],
      "metadata": {
        "id": "1uE1Kx7IYogf"
      },
      "execution_count": null,
      "outputs": []
    },
    {
      "cell_type": "markdown",
      "source": [
        "問題1.20: テキストp.43のプログラムを参考に，円の金額を入力するとドルの金額を求めて表示するプログラムを作りなさい．ただしRATEは最近のものを調べて定数としなさい．"
      ],
      "metadata": {
        "id": "0HbvmPUoYveA"
      }
    },
    {
      "cell_type": "code",
      "source": [],
      "metadata": {
        "id": "hABT4XmFZchR"
      },
      "execution_count": null,
      "outputs": []
    }
  ]
}