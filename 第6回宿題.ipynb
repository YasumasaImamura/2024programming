{
  "nbformat": 4,
  "nbformat_minor": 0,
  "metadata": {
    "colab": {
      "provenance": [],
      "authorship_tag": "ABX9TyMxDrt6wI1wPXFHpV1M3P7/",
      "include_colab_link": true
    },
    "kernelspec": {
      "name": "python3",
      "display_name": "Python 3"
    },
    "language_info": {
      "name": "python"
    }
  },
  "cells": [
    {
      "cell_type": "markdown",
      "metadata": {
        "id": "view-in-github",
        "colab_type": "text"
      },
      "source": [
        "<a href=\"https://colab.research.google.com/github/YasumasaImamura/2024programming/blob/main/%E7%AC%AC6%E5%9B%9E%E5%AE%BF%E9%A1%8C.ipynb\" target=\"_parent\"><img src=\"https://colab.research.google.com/assets/colab-badge.svg\" alt=\"Open In Colab\"/></a>"
      ]
    },
    {
      "cell_type": "markdown",
      "source": [
        "# 2024プログラミング\n",
        "\n",
        "## 5.データをまとめて管理するリスト，タプル，辞書(2)\n",
        "\n"
      ],
      "metadata": {
        "id": "dUWhlp1OOLVr"
      }
    },
    {
      "cell_type": "markdown",
      "source": [
        "## 5.データをまとめて管理するリスト，タプル，辞書(2)"
      ],
      "metadata": {
        "id": "ne_ResloI-h2"
      }
    },
    {
      "cell_type": "markdown",
      "source": [
        "### リストの内包表記\n",
        "\n",
        "リストの内包表記を使って，次の各問いに答えなさい．"
      ],
      "metadata": {
        "id": "bSJd3TbFsJEr"
      }
    },
    {
      "cell_type": "markdown",
      "source": [
        "問題5.4：リストの内包表記を用いて，0から9までの整数のうち偶数を取り出して，リストeven_listを作り，その中身を表示させなさい．"
      ],
      "metadata": {
        "id": "YW5bkeUtaBmD"
      }
    },
    {
      "cell_type": "code",
      "source": [],
      "metadata": {
        "id": "b1ZKPFg4i93A"
      },
      "execution_count": null,
      "outputs": []
    },
    {
      "cell_type": "markdown",
      "source": [
        "問題5.5：リストの内包表記を用いて，得点リスト tokuten = [78,87,92,64,70]から75点以上の得点を取り出してgoukakuリストを作り，その中身を表示させなさい．"
      ],
      "metadata": {
        "id": "ZEFphUHgtJjH"
      }
    },
    {
      "cell_type": "code",
      "source": [],
      "metadata": {
        "id": "gAUvSn5Ct7Ny"
      },
      "execution_count": null,
      "outputs": []
    },
    {
      "cell_type": "markdown",
      "source": [
        "問題5.6：辞書 entrance_fee = {\"大人\" : 1200, \"中高生\" : 1000, \"小学生以下\" : 800}  \n",
        "がある．次にのように出力しよう．  \n",
        "大人：1200円  \n",
        "中高生：1000円  \n",
        "小学生以下：800円  "
      ],
      "metadata": {
        "id": "hCKGm0mtt6jd"
      }
    },
    {
      "cell_type": "code",
      "source": [],
      "metadata": {
        "id": "Vay5FPbow95_"
      },
      "execution_count": null,
      "outputs": []
    }
  ]
}