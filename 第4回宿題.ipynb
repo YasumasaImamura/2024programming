{
  "nbformat": 4,
  "nbformat_minor": 0,
  "metadata": {
    "colab": {
      "provenance": [],
      "authorship_tag": "ABX9TyN0Ty/X1NQDQASPgWHQJ5u7",
      "include_colab_link": true
    },
    "kernelspec": {
      "name": "python3",
      "display_name": "Python 3"
    },
    "language_info": {
      "name": "python"
    }
  },
  "cells": [
    {
      "cell_type": "markdown",
      "metadata": {
        "id": "view-in-github",
        "colab_type": "text"
      },
      "source": [
        "<a href=\"https://colab.research.google.com/github/YasumasaImamura/2024programming/blob/main/%E7%AC%AC4%E5%9B%9E%E5%AE%BF%E9%A1%8C.ipynb\" target=\"_parent\"><img src=\"https://colab.research.google.com/assets/colab-badge.svg\" alt=\"Open In Colab\"/></a>"
      ]
    },
    {
      "cell_type": "markdown",
      "source": [
        "# 2024プログラミング\n",
        "\n",
        "## 3.if文で処理を切り分ける\n",
        "\n"
      ],
      "metadata": {
        "id": "dUWhlp1OOLVr"
      }
    },
    {
      "cell_type": "markdown",
      "source": [
        "### if文の基本的な使い方～処理を3つ以上に分ける\n",
        "比較演算子を用いて，次の条件判断を行うプログラムを作りましょう．\n",
        "結果はprint関数を用いて表示させること．"
      ],
      "metadata": {
        "id": "Q9N2MP8AkC1j"
      }
    },
    {
      "cell_type": "markdown",
      "source": [
        "問題3.1：input関数で得点を入力し，得点(tokuten)が，60点以上なら「合格」，59点以下なら「不合格」と表示するプログラムを作りなさい．"
      ],
      "metadata": {
        "id": "EMH2wWToPVtR"
      }
    },
    {
      "cell_type": "code",
      "execution_count": null,
      "metadata": {
        "id": "1Rgijqe8OB1v"
      },
      "outputs": [],
      "source": []
    },
    {
      "cell_type": "markdown",
      "source": [
        "問題3.2：input関数で得点を入力し，得点(tokuten)が90点以上なら「秀」，80点以上89点以下なら「優」，70点以上79点以下なら「良」，60点以上69点以下なら「可」，59点以下なら「不可」と表示させるプログラムを作りなさい．"
      ],
      "metadata": {
        "id": "c9mU4P-KV93e"
      }
    },
    {
      "cell_type": "code",
      "source": [],
      "metadata": {
        "id": "f8YXtzP_Wd2W"
      },
      "execution_count": null,
      "outputs": []
    },
    {
      "cell_type": "markdown",
      "source": [
        "問題3.3：問題3.2を，得点(tokuten)が0～100点の範囲にない場合，「0～100の値を入力してください」と表示させるように改良してください．ただし「論理演算子」は使わないこと．"
      ],
      "metadata": {
        "id": "XiHRoGMUWeNq"
      }
    },
    {
      "cell_type": "code",
      "source": [],
      "metadata": {
        "id": "t2jqMw08XPsI"
      },
      "execution_count": null,
      "outputs": []
    },
    {
      "cell_type": "markdown",
      "source": [
        "### 条件を組み合わせる\n",
        "論理演算子を用いたりして，複数の条件式を組み合わせて書きましょう．"
      ],
      "metadata": {
        "id": "6_ggMAbTiNHo"
      }
    },
    {
      "cell_type": "markdown",
      "source": [
        "問題3.4：問題3.3の範囲指定を「論理演算子」を用いて書き直しなさい．"
      ],
      "metadata": {
        "id": "YN1MpdI8XP2H"
      }
    },
    {
      "cell_type": "code",
      "source": [],
      "metadata": {
        "id": "t0L_9wy8XrR3"
      },
      "execution_count": null,
      "outputs": []
    },
    {
      "cell_type": "markdown",
      "source": [
        "問題3.5：Aさんの2つのテストの得点（tokuten1とtokuten2)をinput関数で入力し，2つの得点がともに60点以上のときだけ「合格」，それ以外は「不合格」と表示させるプログラムを作りなさい．"
      ],
      "metadata": {
        "id": "YW5bkeUtaBmD"
      }
    },
    {
      "cell_type": "code",
      "source": [],
      "metadata": {
        "id": "m_YeO5kuaAcc"
      },
      "execution_count": null,
      "outputs": []
    },
    {
      "cell_type": "markdown",
      "source": [
        "問題3.6：Aさんの2つのテストの得点（tokuten1とtokuten2)をinput関数で入力し，2つの得点にうちいずれか1つでも60点以上なら「合格」，それ以外は「不合格」と表示させるプログラムを作りなさい．"
      ],
      "metadata": {
        "id": "g3Awkxythu7m"
      }
    },
    {
      "cell_type": "code",
      "source": [],
      "metadata": {
        "id": "vAs4lY_7Z6g1"
      },
      "execution_count": null,
      "outputs": []
    },
    {
      "cell_type": "markdown",
      "source": [
        "問題3.7：Aさんの2つのテストのうち，1つ目の得点（tokuten1）をinput関数で入力し，1つ目の得点が60点以上のときだけ2つ目の得点(tokuten2)の入力を求め，その得点も60点以上の時には「合格」，それ以外は「不合格」と表示させるプログラムを作りなさい．（必ずしも論理演算子を使う必要はありません。）"
      ],
      "metadata": {
        "id": "sA2p2hKSXrbY"
      }
    },
    {
      "cell_type": "code",
      "source": [],
      "metadata": {
        "id": "JryRxYqlhvH7"
      },
      "execution_count": null,
      "outputs": []
    },
    {
      "cell_type": "markdown",
      "source": [
        "### 実行時のエラーを捕まえる例外処理"
      ],
      "metadata": {
        "id": "D123WWkmh_Yl"
      }
    },
    {
      "cell_type": "markdown",
      "source": [
        "問題3.8：割り算のプログラム（2つの変数a，bに整数値をInput関数で入力し，aをbで割る）とき，変数に数値以外のものを入力すると，ValueErrorの例外処理で「数値ではありません」と表示されるプログラムを作りなさい．（ヒント：Google colabでコードを終了させるには，runtimeモジュールをインポートし[from google.colab import runtime]，終了させたい場所で，unassignメソッドを実行させます[runtime.unassign()]．）"
      ],
      "metadata": {
        "id": "lKBAJTPVab9t"
      }
    },
    {
      "cell_type": "code",
      "source": [],
      "metadata": {
        "id": "OFmY3KyY5CCm"
      },
      "execution_count": null,
      "outputs": []
    },
    {
      "cell_type": "markdown",
      "source": [
        "問題3.9：割り算のプログラム（2つの変数a，bに整数値をInput関数で入力し，aをbで割る）とき，bにゼロを入力すると，ZeroDivisionErrorの例外処理で「0では割れません」と表示されるプログラムを作りなさい．"
      ],
      "metadata": {
        "id": "bQC5zWaGe6WL"
      }
    },
    {
      "cell_type": "code",
      "source": [],
      "metadata": {
        "id": "lqT1gFuSg-T5"
      },
      "execution_count": null,
      "outputs": []
    },
    {
      "cell_type": "markdown",
      "source": [
        "3.10：割り算のプログラム（2つの変数a，bに整数値をInput関数で入力し，aをbで割る）とき，変数bに0を入れても，変数に数値以外のものを入力すると，例外処理で「入力が正しくありません」と表示されるプログラムを作りなさい．（ヒント：except (ValueError,ZeroDivisionError):）"
      ],
      "metadata": {
        "id": "rc66p3eUg-uI"
      }
    },
    {
      "cell_type": "code",
      "source": [],
      "metadata": {
        "id": "BlC0ONGghVg-"
      },
      "execution_count": null,
      "outputs": []
    }
  ]
}