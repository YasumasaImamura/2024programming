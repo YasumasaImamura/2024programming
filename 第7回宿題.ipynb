{
  "nbformat": 4,
  "nbformat_minor": 0,
  "metadata": {
    "colab": {
      "provenance": [],
      "authorship_tag": "ABX9TyNCSwC0WR6TpUrFgvvo0ZOv",
      "include_colab_link": true
    },
    "kernelspec": {
      "name": "python3",
      "display_name": "Python 3"
    },
    "language_info": {
      "name": "python"
    }
  },
  "cells": [
    {
      "cell_type": "markdown",
      "metadata": {
        "id": "view-in-github",
        "colab_type": "text"
      },
      "source": [
        "<a href=\"https://colab.research.google.com/github/YasumasaImamura/2024programming/blob/main/%E7%AC%AC7%E5%9B%9E%E5%AE%BF%E9%A1%8C.ipynb\" target=\"_parent\"><img src=\"https://colab.research.google.com/assets/colab-badge.svg\" alt=\"Open In Colab\"/></a>"
      ]
    },
    {
      "cell_type": "markdown",
      "source": [
        "# 2024プログラミング\n",
        "\n",
        "## 6.ユーザ定義関数を作成する\n",
        "Python本体やモジュールに用意された関数以外に，自分でも関数を作成することができます．  "
      ],
      "metadata": {
        "id": "8SN03ed_0Cr1"
      }
    },
    {
      "cell_type": "markdown",
      "source": [
        "### 関数はdefで定義する\n",
        "\n",
        "次の問題中の関数定義して，次の各問いに答えなさい．"
      ],
      "metadata": {
        "id": "rQKTTaU80MXT"
      }
    },
    {
      "cell_type": "markdown",
      "source": [
        "問題6.1：2つの整数の和を計算するadd関数を定義し，メインプログラムから呼び出して，入力された2数の和を求めて結果を表示するプログラムを作りなさい．  \n",
        "（出力例）  \n",
        "a = 3  \n",
        "b = 5  \n",
        "a + b = 8"
      ],
      "metadata": {
        "id": "gguVTuHD0OWJ"
      }
    },
    {
      "cell_type": "code",
      "source": [],
      "metadata": {
        "id": "lqxYMgQw0zVk"
      },
      "execution_count": null,
      "outputs": []
    },
    {
      "cell_type": "markdown",
      "source": [
        "問題6.2：名前を入力すると「私の名前は○○です．」と表示するsay_Hello関数を定義し，メインプログラムから呼び出して，入力された名前で挨拶が表示されるようにしなさい．  "
      ],
      "metadata": {
        "id": "FpW2UPlL3pbC"
      }
    },
    {
      "cell_type": "code",
      "source": [],
      "metadata": {
        "id": "3n6DwMaS47ql"
      },
      "execution_count": null,
      "outputs": []
    },
    {
      "cell_type": "markdown",
      "source": [
        "問題6.3：本体価格から税込み価格を求めるzeikomi関数を定義し（消費税を税率10%とする），メインプログラムから呼び出して，入力された本体価格から税込み価格を計算して結果を表示するプログラムを作りなさい．ただし金額は小数点以下を切り捨てること．  \n",
        "（出力例）  \n",
        "本体価格 = 128  \n",
        "税込価格 = 140  \n"
      ],
      "metadata": {
        "id": "3aKF4IlV0zig"
      }
    },
    {
      "cell_type": "code",
      "source": [],
      "metadata": {
        "id": "IwG7ls7P2R7G"
      },
      "execution_count": null,
      "outputs": []
    },
    {
      "cell_type": "markdown",
      "source": [
        "問題6.4：問題6.3のzeikomi関数をラムダ式で書き直して，同じ結果が表示されることを確かめなさい．  "
      ],
      "metadata": {
        "id": "FXW5gFvS2SV2"
      }
    },
    {
      "cell_type": "code",
      "source": [],
      "metadata": {
        "id": "3oY2tmC02spW"
      },
      "execution_count": null,
      "outputs": []
    }
  ]
}